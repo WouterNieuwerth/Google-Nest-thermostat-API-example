{
  "nbformat": 4,
  "nbformat_minor": 0,
  "metadata": {
    "colab": {
      "name": "Google Nest API thermostat example",
      "provenance": [],
      "authorship_tag": "ABX9TyNTGZjdp/FACEJr6SRaZtOz",
      "include_colab_link": true
    },
    "kernelspec": {
      "name": "python3",
      "display_name": "Python 3"
    }
  },
  "cells": [
    {
      "cell_type": "markdown",
      "metadata": {
        "id": "view-in-github",
        "colab_type": "text"
      },
      "source": [
        "<a href=\"https://colab.research.google.com/github/WouterNieuwerth/Google-Nest-thermostat-API-example/blob/main/Google_Nest_API_thermostat_example.ipynb\" target=\"_parent\"><img src=\"https://colab.research.google.com/assets/colab-badge.svg\" alt=\"Open In Colab\"/></a>"
      ]
    },
    {
      "cell_type": "markdown",
      "metadata": {
        "id": "L1Ww7gZGrYWF"
      },
      "source": [
        "# Example for making Nest API calls\n",
        "\n",
        "Please start by making a copy of this notebook.\n",
        "\n",
        "## Enter your credentials\n",
        "Enter your credentials and run the cell to generate a login URL. Click the URL and log in to your Google account."
      ]
    },
    {
      "cell_type": "code",
      "metadata": {
        "id": "s5P9dqaHZIV1"
      },
      "source": [
        "project_id = 'your-project-id'\n",
        "client_id = 'your-client-id.apps.googleusercontent.com'\n",
        "client_secret = 'your-client-secret'\n",
        "redirect_uri = 'https://www.google.com'\n",
        "\n",
        "url = 'https://nestservices.google.com/partnerconnections/'+project_id+'/auth?redirect_uri='+redirect_uri+'&access_type=offline&prompt=consent&client_id='+client_id+'&response_type=code&scope=https://www.googleapis.com/auth/sdm.service'\n",
        "print(\"Go to this URL to log in:\")\n",
        "print(url)"
      ],
      "execution_count": null,
      "outputs": []
    },
    {
      "cell_type": "markdown",
      "metadata": {
        "id": "M51DzpbiWBNO"
      },
      "source": [
        "After logging in you are sent to URL you specified as redirect_url. Google added a query to end that looks like this: ?code=.....&scope=...\n",
        "Copy the part between code= and &scope= and add it below:"
      ]
    },
    {
      "cell_type": "code",
      "metadata": {
        "id": "JC0_nQ14ZIRM"
      },
      "source": [
        "code = '4/add-your-code-here'"
      ],
      "execution_count": null,
      "outputs": []
    },
    {
      "cell_type": "markdown",
      "metadata": {
        "id": "9b_XDcoHYT0S"
      },
      "source": [
        "## Get tokens\n",
        "Now we can use this code to retrieve an access token and a refresh token:"
      ]
    },
    {
      "cell_type": "code",
      "metadata": {
        "id": "IRH6FsK-ZIKc"
      },
      "source": [
        "# Get tokens\n",
        "\n",
        "import requests\n",
        "\n",
        "params = (\n",
        "    ('client_id', client_id),\n",
        "    ('client_secret', client_secret),\n",
        "    ('code', code),\n",
        "    ('grant_type', 'authorization_code'),\n",
        "    ('redirect_uri', redirect_uri),\n",
        ")\n",
        "\n",
        "response = requests.post('https://www.googleapis.com/oauth2/v4/token', params=params)\n",
        "\n",
        "response_json = response.json()\n",
        "access_token = response_json['token_type'] + ' ' + str(response_json['access_token'])\n",
        "print('Access token: ' + access_token)\n",
        "refresh_token = response_json['refresh_token']\n",
        "print('Refresh token: ' + refresh_token)"
      ],
      "execution_count": null,
      "outputs": []
    },
    {
      "cell_type": "markdown",
      "metadata": {
        "id": "eKeu9OvYZPIf"
      },
      "source": [
        "## Refresh access token\n",
        "The access token is only valid for 60 minutes. You can use the refresh token to renew it."
      ]
    },
    {
      "cell_type": "code",
      "metadata": {
        "id": "MzfzpFAnfPAq"
      },
      "source": [
        "# Refresh token\n",
        "\n",
        "params = (\n",
        "    ('client_id', client_id),\n",
        "    ('client_secret', client_secret),\n",
        "    ('refresh_token', refresh_token),\n",
        "    ('grant_type', 'refresh_token'),\n",
        ")\n",
        "\n",
        "response = requests.post('https://www.googleapis.com/oauth2/v4/token', params=params)\n",
        "\n",
        "response_json = response.json()\n",
        "access_token = response_json['token_type'] + ' ' + response_json['access_token']\n",
        "print('Access token: ' + access_token)"
      ],
      "execution_count": null,
      "outputs": []
    },
    {
      "cell_type": "markdown",
      "metadata": {
        "id": "HoqFyCZLaaQP"
      },
      "source": [
        "## Get structures and devices\n",
        "Now lets get some information about what devices we have access to and where these are \"located\". Devices are part of a structure (such as your home). We can get information about the structures we have access to:"
      ]
    },
    {
      "cell_type": "code",
      "metadata": {
        "id": "6VgsjvvRbXgv"
      },
      "source": [
        "# Get structures\n",
        "\n",
        "url_structures = 'https://smartdevicemanagement.googleapis.com/v1/enterprises/' + project_id + '/structures'\n",
        "\n",
        "headers = {\n",
        "    'Content-Type': 'application/json',\n",
        "    'Authorization': access_token,\n",
        "}\n",
        "\n",
        "response = requests.get(url_structures, headers=headers)\n",
        "\n",
        "print(response.json())"
      ],
      "execution_count": null,
      "outputs": []
    },
    {
      "cell_type": "markdown",
      "metadata": {
        "id": "Y9AFteTya1eM"
      },
      "source": [
        "But we can also directly retrieve the devices we have access to:"
      ]
    },
    {
      "cell_type": "code",
      "metadata": {
        "id": "ndOtYbrNjiE2"
      },
      "source": [
        "# Get devices\n",
        "\n",
        "url_get_devices = 'https://smartdevicemanagement.googleapis.com/v1/enterprises/' + project_id + '/devices'\n",
        "\n",
        "headers = {\n",
        "    'Content-Type': 'application/json',\n",
        "    'Authorization': access_token,\n",
        "}\n",
        "\n",
        "response = requests.get(url_get_devices, headers=headers)\n",
        "\n",
        "print(response.json())\n",
        "\n",
        "response_json = response.json()\n",
        "device_0_name = response_json['devices'][0]['name']\n",
        "print(device_0_name)"
      ],
      "execution_count": null,
      "outputs": []
    },
    {
      "cell_type": "markdown",
      "metadata": {
        "id": "JeATtkCsbOek"
      },
      "source": [
        "## Get device stats\n",
        "For this example I simply took the first item of the array of devices. I assume most people probably have one Nest thermostat anyway.\n",
        "\n",
        "The name of a device can be used to retrieve data from this device and to send commands to it. Lets get soms stats first:"
      ]
    },
    {
      "cell_type": "code",
      "metadata": {
        "id": "0vwNzXCom4ti"
      },
      "source": [
        "# Get device stats\n",
        "\n",
        "url_get_device = 'https://smartdevicemanagement.googleapis.com/v1/' + device_0_name\n",
        "\n",
        "headers = {\n",
        "    'Content-Type': 'application/json',\n",
        "    'Authorization': access_token,\n",
        "}\n",
        "\n",
        "response = requests.get(url_get_device, headers=headers)\n",
        "\n",
        "response_json = response.json()\n",
        "humidity = response_json['traits']['sdm.devices.traits.Humidity']['ambientHumidityPercent']\n",
        "print('Humidity:', humidity)\n",
        "temperature = response_json['traits']['sdm.devices.traits.Temperature']['ambientTemperatureCelsius']\n",
        "print('Temperature:', temperature)"
      ],
      "execution_count": null,
      "outputs": []
    },
    {
      "cell_type": "markdown",
      "metadata": {
        "id": "1da3F2cLcApC"
      },
      "source": [
        "## Set thermostat to HEAT\n",
        "And last but not least, lets send some commands to our thermostat. The cell below contains the code to set the mode to \"HEAT\":"
      ]
    },
    {
      "cell_type": "code",
      "metadata": {
        "id": "5LvlRIxQeVnE"
      },
      "source": [
        "# Set mode to \"HEAT\"\n",
        "\n",
        "url_set_mode = 'https://smartdevicemanagement.googleapis.com/v1/' + device_0_name + ':executeCommand'\n",
        "\n",
        "headers = {\n",
        "    'Content-Type': 'application/json',\n",
        "    'Authorization': access_token,\n",
        "}\n",
        "\n",
        "data = '{ \"command\" : \"sdm.devices.commands.ThermostatMode.SetMode\", \"params\" : { \"mode\" : \"HEAT\" } }'\n",
        "\n",
        "response = requests.post(url_set_mode, headers=headers, data=data)\n",
        "\n",
        "print(response.json())"
      ],
      "execution_count": null,
      "outputs": []
    },
    {
      "cell_type": "markdown",
      "metadata": {
        "id": "RwUit-TQcQk9"
      },
      "source": [
        "## Set a new temperature\n",
        "And finally we can set a temperature by executing this command:"
      ]
    },
    {
      "cell_type": "code",
      "metadata": {
        "id": "7fqun2A0cc7L"
      },
      "source": [
        "set_temp_to = 21.0"
      ],
      "execution_count": null,
      "outputs": []
    },
    {
      "cell_type": "code",
      "metadata": {
        "id": "8lSx-LF1koFp"
      },
      "source": [
        "# Set temperature to set_temp_to degrees\n",
        "\n",
        "url_set_mode = 'https://smartdevicemanagement.googleapis.com/v1/' + device_0_name + ':executeCommand'\n",
        "\n",
        "headers = {\n",
        "    'Content-Type': 'application/json',\n",
        "    'Authorization': access_token,\n",
        "}\n",
        "\n",
        "data = '{\"command\" : \"sdm.devices.commands.ThermostatTemperatureSetpoint.SetHeat\", \"params\" : {\"heatCelsius\" : ' + str(set_temp_to) + '} }'\n",
        "\n",
        "response = requests.post(url_set_mode, headers=headers, data=data)\n",
        "\n",
        "print(response.json())"
      ],
      "execution_count": null,
      "outputs": []
    }
  ]
}